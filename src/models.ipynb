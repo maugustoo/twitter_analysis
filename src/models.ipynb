{
 "cells": [
  {
   "cell_type": "code",
   "execution_count": 1,
   "id": "grand-science",
   "metadata": {},
   "outputs": [],
   "source": [
    "import pandas as pd\n",
    "import nltk\n",
    "import re\n",
    "import numpy as np\n",
    "import torch\n",
    "import transformers as ppb\n",
    "\n",
    "from nltk.tokenize import TweetTokenizer\n",
    "from sklearn.feature_extraction.text import CountVectorizer\n",
    "from sklearn.naive_bayes import MultinomialNB\n",
    "from sklearn import metrics, svm\n",
    "from sklearn.linear_model import LogisticRegression\n",
    "from sklearn.model_selection import cross_val_predict, train_test_split"
   ]
  },
  {
   "cell_type": "code",
   "execution_count": 2,
   "id": "victorian-aggregate",
   "metadata": {},
   "outputs": [
    {
     "data": {
      "text/html": [
       "<div>\n",
       "<style scoped>\n",
       "    .dataframe tbody tr th:only-of-type {\n",
       "        vertical-align: middle;\n",
       "    }\n",
       "\n",
       "    .dataframe tbody tr th {\n",
       "        vertical-align: top;\n",
       "    }\n",
       "\n",
       "    .dataframe thead th {\n",
       "        text-align: right;\n",
       "    }\n",
       "</style>\n",
       "<table border=\"1\" class=\"dataframe\">\n",
       "  <thead>\n",
       "    <tr style=\"text-align: right;\">\n",
       "      <th></th>\n",
       "      <th>0</th>\n",
       "      <th>1</th>\n",
       "      <th>2</th>\n",
       "      <th>3</th>\n",
       "      <th>4</th>\n",
       "    </tr>\n",
       "  </thead>\n",
       "  <tbody>\n",
       "    <tr>\n",
       "      <th>text</th>\n",
       "      <td>VOCE VAI PROVAR NA JUSTIÇA QUE A PAULINHA É RA...</td>\n",
       "      <td>Dizendo umas histórias doidas, dizendo que meu...</td>\n",
       "      <td>Esse sou eu tocando no violão. A diferença pra...</td>\n",
       "      <td>Eu sou a única q não fica nessa \"só uso roupa ...</td>\n",
       "      <td>Eu custo ficar feliz com o negócio da peneira ...</td>\n",
       "    </tr>\n",
       "    <tr>\n",
       "      <th>is_racism</th>\n",
       "      <td>0</td>\n",
       "      <td>0</td>\n",
       "      <td>0</td>\n",
       "      <td>0</td>\n",
       "      <td>0</td>\n",
       "    </tr>\n",
       "    <tr>\n",
       "      <th>is_against</th>\n",
       "      <td>0</td>\n",
       "      <td>0</td>\n",
       "      <td>0</td>\n",
       "      <td>0</td>\n",
       "      <td>0</td>\n",
       "    </tr>\n",
       "  </tbody>\n",
       "</table>\n",
       "</div>"
      ],
      "text/plain": [
       "                                                            0  \\\n",
       "text        VOCE VAI PROVAR NA JUSTIÇA QUE A PAULINHA É RA...   \n",
       "is_racism                                                   0   \n",
       "is_against                                                  0   \n",
       "\n",
       "                                                            1  \\\n",
       "text        Dizendo umas histórias doidas, dizendo que meu...   \n",
       "is_racism                                                   0   \n",
       "is_against                                                  0   \n",
       "\n",
       "                                                            2  \\\n",
       "text        Esse sou eu tocando no violão. A diferença pra...   \n",
       "is_racism                                                   0   \n",
       "is_against                                                  0   \n",
       "\n",
       "                                                            3  \\\n",
       "text        Eu sou a única q não fica nessa \"só uso roupa ...   \n",
       "is_racism                                                   0   \n",
       "is_against                                                  0   \n",
       "\n",
       "                                                            4  \n",
       "text        Eu custo ficar feliz com o negócio da peneira ...  \n",
       "is_racism                                                   0  \n",
       "is_against                                                  0  "
      ]
     },
     "execution_count": 2,
     "metadata": {},
     "output_type": "execute_result"
    }
   ],
   "source": [
    "df = pd.read_csv('../final_racism/final_modularized.csv')\n",
    "df.head().T"
   ]
  },
  {
   "cell_type": "code",
   "execution_count": 3,
   "id": "sensitive-tutorial",
   "metadata": {},
   "outputs": [
    {
     "data": {
      "text/plain": [
       "0    123\n",
       "1    118\n",
       "Name: is_racism, dtype: int64"
      ]
     },
     "execution_count": 3,
     "metadata": {},
     "output_type": "execute_result"
    }
   ],
   "source": [
    "df.is_racism.value_counts()"
   ]
  },
  {
   "cell_type": "code",
   "execution_count": 4,
   "id": "collaborative-massachusetts",
   "metadata": {},
   "outputs": [
    {
     "data": {
      "text/plain": [
       "<AxesSubplot:>"
      ]
     },
     "execution_count": 4,
     "metadata": {},
     "output_type": "execute_result"
    },
    {
     "data": {
      "image/png": "[encoded data removed]",
      "text/plain": [
       "<Figure size 432x288 with 1 Axes>"
      ]
     },
     "metadata": {
      "needs_background": "light"
     },
     "output_type": "display_data"
    }
   ],
   "source": [
    "df.is_racism.value_counts().plot(kind='bar')"
   ]
  },
  {
   "cell_type": "code",
   "execution_count": 5,
   "id": "green-facing",
   "metadata": {},
   "outputs": [],
   "source": [
    "tweets_with_stopwords = df['text'].values\n",
    "classes = df['is_racism'].values"
   ]
  },
  {
   "cell_type": "code",
   "execution_count": 6,
   "id": "danish-breed",
   "metadata": {},
   "outputs": [
    {
     "name": "stderr",
     "output_type": "stream",
     "text": [
      "[nltk_data] Downloading package stopwords to\n",
      "[nltk_data]     /Users/lamarcelo.augusto/nltk_data...\n",
      "[nltk_data]   Package stopwords is already up-to-date!\n"
     ]
    }
   ],
   "source": [
    "# Remove Stop Words from database\n",
    "nltk.download('stopwords')\n",
    "\n",
    "stopwords = {'estão', 'tivermos', 'tiveram', 'ao', 'houvera', 'isto', 'tenhamos', 'esse', 'num', 'lhe', 'teria', 'muito',\n",
    " 'houverem', 'estivéramos', 'era', 'aquele', 'houver', 'houverei', 'deles', 'pelo', 'te', 'estivera', 'isso',\n",
    " 'fora', 'qual', 'houvesse', 'houvessem', 'esteja', 'sua', 'tivesse', 'suas', 'das', 'houvermos', 'aqueles',\n",
    " 'nem', 'estejamos', 'éramos', 'estivermos', 'tivéramos', 'nós', 'tua', 'houveria', 'houvemos', 'fomos', 'tenha',\n",
    " 'este', 'tinha', 'forem', 'só', 'haja', 'terão', 'também', 'um', 'teus', 'minhas', 'terei', 'tínhamos', 'uma',\n",
    " 'teve', 'tuas', 'o', 'ou', 'houveremos', 'fosse', 'tiver', 'minha', 'mesmo', 'numa', 'da', 'meu', 'esteve', 'do',\n",
    " 'for', 'ele', 'os', 'já', 'ela', 'dela', 'quem', 'nosso', 'me', 'estiveram', 'em', 'seu', 'aquilo', 'hão', 'até',\n",
    " 'houverá', 'houverão', 'mas', 'houvéramos', 'estive', 'depois', 'elas', 'tivera', 'delas', 'nossas', 'foram',\n",
    " 'nossa', 'houveram', 'aos', 'eles', 'hajamos', 'pelos', 'esta', 'fossem', 'estas', 'dos', 'entre', 'tenho',\n",
    " 'pelas', 'estivemos', 'é', 'tivemos', 'tivéssemos', 'seria', 'pela', 'tenham', 'mais', 'temos',\n",
    " 'sem', 'eu', 'e', 'no', 'quando', 'teu', 'havemos', 'com', 'houveriam', 'essa', 'essas', 'tive', 'tu',\n",
    " 'nos', 'nossos', 'seus', 'dele', 'vocês', 'teriam', 'você', 'às', 'aquelas', 'estivéssemos', 'as', 'estes',\n",
    " 'há', 'houveríamos', 'será', 'como', 'à', 'tinham', 'hei', 'tém', 'terá', 'se', 'formos', 'a', 'que', 'sejam', \n",
    " 'foi', 'estava', 'de', 'tiverem', 'está', 'hajam', 'seja', 'estiver', 'lhes', 'estejam', 'eram', 'tem', 'teremos',\n",
    " 'meus', 'por', 'houve', 'teríamos', 'para', 'aquela', 'tivessem', 'vos', 'houvéssemos', 'na', 'nas', 'esses'}\n",
    "\n",
    "def removeStopWords(instance):\n",
    "    words = [ i.lower() for i in instance.split() if not i in stopwords ]\n",
    "    return ( \" \".join(words))\n",
    "\n",
    "tweets = [ removeStopWords(tweet) for tweet in tweets_with_stopwords ]"
   ]
  },
  {
   "cell_type": "code",
   "execution_count": 7,
   "id": "ancient-element",
   "metadata": {},
   "outputs": [],
   "source": [
    "# Remove caracteres\n",
    "def clean_data(instance):\n",
    "    instance = re.sub(r'http\\S+', '', instance)\n",
    "    instance = re.sub(r'@\\S+', '', instance)\n",
    "    instance = re.sub('\\?|\\.|\\!|\\/|\\;|\\:|\\—|\\]|\\[|\\,', '', instance)\n",
    "\n",
    "    return instance.strip()\n",
    "\n",
    "tweets = [ clean_data(tweet) for tweet in tweets ]"
   ]
  },
  {
   "cell_type": "code",
   "execution_count": 12,
   "id": "organizational-scoop",
   "metadata": {},
   "outputs": [],
   "source": [
    "tweet_tokenizer = TweetTokenizer() \n",
    "\n",
    "vectorizer = CountVectorizer(analyzer=\"word\", tokenizer=tweet_tokenizer.tokenize)\n",
    "#vectorizer = CountVectorizer(analyzer=\"word\", ngram_range=(1,2), tokenizer=tweet_tokenizer.tokenize)\n",
    "\n",
    "freq_tweets = vectorizer.fit_transform(tweets)"
   ]
  },
  {
   "cell_type": "code",
   "execution_count": 13,
   "id": "variable-cookie",
   "metadata": {},
   "outputs": [
    {
     "data": {
      "text/plain": [
       "(241, 1499)"
      ]
     },
     "execution_count": 13,
     "metadata": {},
     "output_type": "execute_result"
    }
   ],
   "source": [
    "freq_tweets.shape"
   ]
  },
  {
   "cell_type": "code",
   "execution_count": 262,
   "id": "technical-special",
   "metadata": {},
   "outputs": [
    {
     "data": {
      "text/plain": [
       "MultinomialNB()"
      ]
     },
     "execution_count": 262,
     "metadata": {},
     "output_type": "execute_result"
    }
   ],
   "source": [
    "# Naive Bayers Model\n",
    "\n",
    "model = MultinomialNB()\n",
    "model.fit(freq_tweets, classes)"
   ]
  },
  {
   "cell_type": "code",
   "execution_count": 269,
   "id": "underlying-reader",
   "metadata": {},
   "outputs": [
    {
     "data": {
      "text/plain": [
       "SVC()"
      ]
     },
     "execution_count": 269,
     "metadata": {},
     "output_type": "execute_result"
    }
   ],
   "source": [
    "# SVM Model\n",
    "\n",
    "model = svm.SVC()\n",
    "model.fit(freq_tweets, classes)"
   ]
  },
  {
   "cell_type": "code",
   "execution_count": 14,
   "id": "quiet-marina",
   "metadata": {},
   "outputs": [
    {
     "data": {
      "text/plain": [
       "LogisticRegression()"
      ]
     },
     "execution_count": 14,
     "metadata": {},
     "output_type": "execute_result"
    }
   ],
   "source": [
    "# Logistic Regression Model\n",
    "\n",
    "model = LogisticRegression()\n",
    "model.fit(freq_tweets, classes)"
   ]
  },
  {
   "cell_type": "code",
   "execution_count": 15,
   "id": "taken-dance",
   "metadata": {
    "scrolled": true
   },
   "outputs": [
    {
     "name": "stdout",
     "output_type": "stream",
     "text": [
      "0.8174273858921162\n"
     ]
    }
   ],
   "source": [
    "# Cross Validation\n",
    "\n",
    "results = cross_val_predict(model, freq_tweets, classes, cv=10)\n",
    "\n",
    "print(metrics.accuracy_score(classes, results))"
   ]
  },
  {
   "cell_type": "code",
   "execution_count": 19,
   "id": "wicked-definition",
   "metadata": {},
   "outputs": [
    {
     "name": "stdout",
     "output_type": "stream",
     "text": [
      "[1 1]\n"
     ]
    },
    {
     "data": {
      "text/plain": [
       "array([[0.1 , 0.9 ],\n",
       "       [0.14, 0.86]])"
      ]
     },
     "execution_count": 19,
     "metadata": {},
     "output_type": "execute_result"
    }
   ],
   "source": [
    "tests = [\n",
    "    'eu vi um macaco subindo na árvore',\n",
    "    'meu cabelo é preto'\n",
    "]\n",
    "\n",
    "freq_testes = vectorizer.transform(tests)\n",
    "\n",
    "print(model.predict(freq_testes))\n",
    "model.predict_proba(freq_testes).round(2)"
   ]
  },
  {
   "cell_type": "code",
   "execution_count": 17,
   "id": "unique-disposal",
   "metadata": {},
   "outputs": [
    {
     "name": "stdout",
     "output_type": "stream",
     "text": [
      "[0 1]\n"
     ]
    },
    {
     "data": {
      "text/plain": [
       "array([[0.1 , 0.9 ],\n",
       "       [0.14, 0.86]])"
      ]
     },
     "execution_count": 17,
     "metadata": {},
     "output_type": "execute_result"
    }
   ],
   "source": [
    "print(model.classes_)\n",
    "model.predict_proba(freq_testes).round(2)"
   ]
  }
 ],
 "metadata": {
  "kernelspec": {
   "display_name": "Python 3",
   "language": "python",
   "name": "python3"
  },
  "language_info": {
   "codemirror_mode": {
    "name": "ipython",
    "version": 3
   },
   "file_extension": ".py",
   "mimetype": "text/x-python",
   "name": "python",
   "nbconvert_exporter": "python",
   "pygments_lexer": "ipython3",
   "version": "3.8.2"
  }
 },
 "nbformat": 4,
 "nbformat_minor": 5
}
