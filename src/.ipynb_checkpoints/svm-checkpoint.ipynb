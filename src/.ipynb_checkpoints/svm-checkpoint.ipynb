{
 "cells": [
  {
   "cell_type": "code",
   "execution_count": 22,
   "id": "brilliant-stanley",
   "metadata": {},
   "outputs": [],
   "source": [
    "import pandas as pd\n",
    "from sklearn.feature_extraction.text import CountVectorizer\n",
    "from sklearn import metrics, svm\n",
    "from sklearn.model_selection import cross_val_predict"
   ]
  },
  {
   "cell_type": "code",
   "execution_count": 23,
   "id": "unavailable-constitutional",
   "metadata": {},
   "outputs": [],
   "source": [
    "dataset = pd.read_csv('../final_racism/final_modularized.csv')"
   ]
  },
  {
   "cell_type": "code",
   "execution_count": 24,
   "id": "controversial-election",
   "metadata": {},
   "outputs": [],
   "source": [
    "tweets = dataset['text'].values\n",
    "classes = dataset['is_racism'].values"
   ]
  },
  {
   "cell_type": "code",
   "execution_count": 28,
   "id": "associate-collaboration",
   "metadata": {},
   "outputs": [
    {
     "name": "stdout",
     "output_type": "stream",
     "text": [
      "0.7551867219917012\n"
     ]
    }
   ],
   "source": [
    "vectorizer = CountVectorizer(analyzer=\"word\")\n",
    "# vectorizer = CountVectorizer(ngram_range=(1,2))\n",
    "\n",
    "freq_tweets = vectorizer.fit_transform(tweets)\n",
    "model = svm.SVC()\n",
    "model.fit(freq_tweets, classes)\n",
    "\n",
    "results = cross_val_predict(model, freq_tweets, classes, cv=10)\n",
    "\n",
    "print(metrics.accuracy_score(classes, results))"
   ]
  },
  {
   "cell_type": "code",
   "execution_count": 29,
   "id": "upset-medicare",
   "metadata": {},
   "outputs": [
    {
     "name": "stdout",
     "output_type": "stream",
     "text": [
      "[1 1 1 1]\n"
     ]
    }
   ],
   "source": [
    "tests = ['Ah, vsf esse cabelo ruim',\n",
    "         'Tomar no cu seu macaco',\n",
    "         'negrinho escroto mano, pra que isso?',\n",
    "         'denegrir a gente']\n",
    "\n",
    "freq_testes = vectorizer.transform(tests)\n",
    "print(model.predict(freq_testes))"
   ]
  },
  {
   "cell_type": "code",
   "execution_count": null,
   "id": "worthy-arcade",
   "metadata": {},
   "outputs": [],
   "source": []
  }
 ],
 "metadata": {
  "kernelspec": {
   "display_name": "Python 3",
   "language": "python",
   "name": "python3"
  },
  "language_info": {
   "codemirror_mode": {
    "name": "ipython",
    "version": 3
   },
   "file_extension": ".py",
   "mimetype": "text/x-python",
   "name": "python",
   "nbconvert_exporter": "python",
   "pygments_lexer": "ipython3",
   "version": "3.8.2"
  }
 },
 "nbformat": 4,
 "nbformat_minor": 5
}
