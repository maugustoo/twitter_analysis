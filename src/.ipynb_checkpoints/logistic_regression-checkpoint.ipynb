{
 "cells": [
  {
   "cell_type": "code",
   "execution_count": 1,
   "id": "subject-stuff",
   "metadata": {},
   "outputs": [],
   "source": [
    "import pandas as pd\n",
    "from sklearn.feature_extraction.text import CountVectorizer\n",
    "from sklearn import metrics\n",
    "from sklearn.linear_model import LogisticRegression\n",
    "from sklearn.model_selection import cross_val_predict\n",
    "\n",
    "dataset = pd.read_csv('../final_racism/final_modularized.csv')\n",
    "\n",
    "tweets = dataset['text'].values\n",
    "classes = dataset['is_racism'].values"
   ]
  },
  {
   "cell_type": "code",
   "execution_count": 6,
   "id": "nutritional-visitor",
   "metadata": {},
   "outputs": [
    {
     "name": "stdout",
     "output_type": "stream",
     "text": [
      "0.8008298755186722\n"
     ]
    }
   ],
   "source": [
    "vectorizer = CountVectorizer(analyzer=\"word\")\n",
    "# vectorizer = CountVectorizer(ngram_range=(1,2))\n",
    "\n",
    "freq_tweets = vectorizer.fit_transform(tweets)\n",
    "model = LogisticRegression(random_state=0)\n",
    "model.fit(freq_tweets, classes)\n",
    "\n",
    "results = cross_val_predict(model, freq_tweets, classes, cv=10)\n",
    "\n",
    "print(metrics.accuracy_score(classes, results))"
   ]
  },
  {
   "cell_type": "code",
   "execution_count": 7,
   "id": "governmental-worst",
   "metadata": {},
   "outputs": [
    {
     "name": "stdout",
     "output_type": "stream",
     "text": [
      "[1 1 0 1]\n"
     ]
    }
   ],
   "source": [
    "tests = ['Ah, vsf esse cabelo ruim',\n",
    "         'Tomar no cu seu macaco',\n",
    "         'negrinho escroto mano, pra que isso?',\n",
    "         'denegrir a gente']\n",
    "\n",
    "freq_testes = vectorizer.transform(tests)\n",
    "print(model.predict(freq_testes))"
   ]
  }
 ],
 "metadata": {
  "kernelspec": {
   "display_name": "Python 3",
   "language": "python",
   "name": "python3"
  },
  "language_info": {
   "codemirror_mode": {
    "name": "ipython",
    "version": 3
   },
   "file_extension": ".py",
   "mimetype": "text/x-python",
   "name": "python",
   "nbconvert_exporter": "python",
   "pygments_lexer": "ipython3",
   "version": "3.8.2"
  }
 },
 "nbformat": 4,
 "nbformat_minor": 5
}
